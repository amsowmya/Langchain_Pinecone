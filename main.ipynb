{
 "cells": [
  {
   "cell_type": "code",
   "execution_count": 1,
   "metadata": {},
   "outputs": [
    {
     "name": "stderr",
     "output_type": "stream",
     "text": [
      "c:\\Users\\sowmy\\anaconda3\\envs\\langchain\\lib\\site-packages\\pinecone\\data\\index.py:1: TqdmWarning: IProgress not found. Please update jupyter and ipywidgets. See https://ipywidgets.readthedocs.io/en/stable/user_install.html\n",
      "  from tqdm.autonotebook import tqdm\n"
     ]
    }
   ],
   "source": [
    "from langchain_openai import AzureChatOpenAI\n",
    "from langchain_community.document_loaders import PyPDFLoader\n",
    "from langchain.text_splitter import RecursiveCharacterTextSplitter\n",
    "from langchain_openai.embeddings import AzureOpenAIEmbeddings\n",
    "from pinecone import Pinecone\n",
    "from langchain_pinecone.vectorstores import PineconeVectorStore\n"
   ]
  },
  {
   "cell_type": "code",
   "execution_count": 2,
   "metadata": {},
   "outputs": [],
   "source": [
    "import os\n",
    "from dotenv import load_dotenv\n",
    "\n",
    "load_dotenv()\n",
    "\n",
    "AZURE_OPENAI_API_KEY = os.getenv(\"AZURE_OPENAI_API_KEY\")\n",
    "PINECONE_API_KEY = os.getenv(\"PINECONE_API_KEY\")"
   ]
  },
  {
   "cell_type": "code",
   "execution_count": 3,
   "metadata": {},
   "outputs": [
    {
     "data": {
      "text/plain": [
       "65"
      ]
     },
     "execution_count": 3,
     "metadata": {},
     "output_type": "execute_result"
    }
   ],
   "source": [
    "directory = \"E:/2024_GenAI/LANGCHAIN/Langchain_Pinecone/data/Canada.pdf\"\n",
    "\n",
    "def load_docs(directory):\n",
    "    loader = PyPDFLoader(directory)\n",
    "    documents = loader.load()\n",
    "    return documents\n",
    "\n",
    "documents = load_docs(directory)\n",
    "len(documents)"
   ]
  },
  {
   "cell_type": "code",
   "execution_count": 4,
   "metadata": {},
   "outputs": [
    {
     "data": {
      "text/plain": [
       "511"
      ]
     },
     "execution_count": 4,
     "metadata": {},
     "output_type": "execute_result"
    }
   ],
   "source": [
    "def split_docs(documents, chunk_size=500, chunk_overlap=20):\n",
    "    text_splitter = RecursiveCharacterTextSplitter(chunk_size=chunk_size, chunk_overlap=chunk_overlap)\n",
    "    docs = text_splitter.split_documents(documents)\n",
    "    return docs\n",
    "\n",
    "docs = split_docs(documents)\n",
    "len(docs)"
   ]
  },
  {
   "cell_type": "code",
   "execution_count": 5,
   "metadata": {},
   "outputs": [],
   "source": [
    "embeddings = AzureOpenAIEmbeddings(\n",
    "    api_key=AZURE_OPENAI_API_KEY,\n",
    "    api_version='2024-02-15-preview',\n",
    "    azure_deployment='vector-search-instance2',\n",
    "    azure_endpoint='https://cb-att-openai-instance.openai.azure.com/'\n",
    ")"
   ]
  },
  {
   "cell_type": "code",
   "execution_count": 6,
   "metadata": {},
   "outputs": [],
   "source": [
    "pc = Pinecone(\n",
    "    api_key=PINECONE_API_KEY,\n",
    "    environment = 'us-east-1'\n",
    ")\n",
    "\n",
    "index_name = 'langchain-pinecone'\n",
    "index = pc.Index(index_name)\n",
    "\n",
    "vectordb = PineconeVectorStore.from_documents(documents=docs, embedding=embeddings, index_name=index_name)"
   ]
  },
  {
   "cell_type": "code",
   "execution_count": 7,
   "metadata": {},
   "outputs": [
    {
     "data": {
      "text/plain": [
       "[Document(page_content=\"has also produc ed one of the world's most successful and widely\\nused soundi ng rockets, the Black Brant.[322]\\nThe 2021 Canadian census enumerated a total\\npopul ation of 36,991,981, an increase of around 5.2\\npercent over the 2016 figure.[324] It is estimated that\\nCanada's popul ation surpassed 40,000,000 in 2023.[325]\\nThe main drivers of popul ation growth are immigration\\nand, to a lesser extent, natural growth.[326] Canada has\\none of the highest per-capita immigration rates in the\", metadata={'page': 16.0, 'source': 'E:/2024_GenAI/LANGCHAIN/Langchain_Pinecone/data/Canada.pdf'}),\n",
       " Document(page_content=\"has also produc ed one of the world's most successful and widely\\nused soundi ng rockets, the Black Brant.[322]\\nThe 2021 Canadian census enumerated a total\\npopul ation of 36,991,981, an increase of around 5.2\\npercent over the 2016 figure.[324] It is estimated that\\nCanada's popul ation surpassed 40,000,000 in 2023.[325]\\nThe main drivers of popul ation growth are immigration\\nand, to a lesser extent, natural growth.[326] Canada has\\none of the highest per-capita immigration rates in the\", metadata={'page': 16.0, 'source': 'E:/2024_GenAI/LANGCHAIN/Langchain_Pinecone/data/Canada.pdf'})]"
      ]
     },
     "execution_count": 7,
     "metadata": {},
     "output_type": "execute_result"
    }
   ],
   "source": [
    "vectordb.similarity_search(\"what is the population in canada\", k=2)"
   ]
  },
  {
   "cell_type": "code",
   "execution_count": 8,
   "metadata": {},
   "outputs": [
    {
     "data": {
      "text/plain": [
       "[(Document(page_content='cultural, political, social, and econom ic fabric of Canada\".[467]\\nCanada has a well-developed media sector, but its cultural output—\\nparticularly in English films, television shows, and magazines—is\\noften overshadowed by imports from the United States.[468] As a\\nresult, the preservation of a distinctly Canadian culture is suppor ted\\nby federal gove rnment programs, laws, and institutions such as the\\nCanadian Broadcasting Corporation (CBC), the National Film', metadata={'page': 22.0, 'source': 'E:/2024_GenAI/LANGCHAIN/Langchain_Pinecone/data/Canada.pdf'}),\n",
       "  0.868315756),\n",
       " (Document(page_content='cultural, political, social, and econom ic fabric of Canada\".[467]\\nCanada has a well-developed media sector, but its cultural output—\\nparticularly in English films, television shows, and magazines—is\\noften overshadowed by imports from the United States.[468] As a\\nresult, the preservation of a distinctly Canadian culture is suppor ted\\nby federal gove rnment programs, laws, and institutions such as the\\nCanadian Broadcasting Corporation (CBC), the National Film', metadata={'page': 22.0, 'source': 'E:/2024_GenAI/LANGCHAIN/Langchain_Pinecone/data/Canada.pdf'}),\n",
       "  0.86728847)]"
      ]
     },
     "execution_count": 8,
     "metadata": {},
     "output_type": "execute_result"
    }
   ],
   "source": [
    "vectordb.similarity_search_with_score(\"what is the culture in canada?\", k=2)"
   ]
  },
  {
   "cell_type": "code",
   "execution_count": 9,
   "metadata": {},
   "outputs": [],
   "source": [
    "from langchain_community.chat_models import AzureChatOpenAI"
   ]
  },
  {
   "cell_type": "code",
   "execution_count": 10,
   "metadata": {},
   "outputs": [
    {
     "name": "stderr",
     "output_type": "stream",
     "text": [
      "c:\\Users\\sowmy\\anaconda3\\envs\\langchain\\lib\\site-packages\\langchain_core\\_api\\deprecation.py:117: LangChainDeprecationWarning: The class `langchain_community.chat_models.azure_openai.AzureChatOpenAI` was deprecated in langchain-community 0.0.10 and will be removed in 0.2.0. An updated version of the class exists in the langchain-openai package and should be used instead. To use it run `pip install -U langchain-openai` and import as `from langchain_openai import AzureChatOpenAI`.\n",
      "  warn_deprecated(\n"
     ]
    }
   ],
   "source": [
    "llm = AzureChatOpenAI(\n",
    "    api_key=AZURE_OPENAI_API_KEY,\n",
    "    api_version='2024-02-15-preview',\n",
    "    azure_deployment='atttestgpt35turbo',\n",
    "    azure_endpoint='https://cb-att-openai-instance.openai.azure.com/'\n",
    ")"
   ]
  },
  {
   "cell_type": "code",
   "execution_count": 15,
   "metadata": {},
   "outputs": [],
   "source": [
    "from langchain.chains.question_answering import load_qa_chain\n",
    "\n",
    "chain = load_qa_chain(llm=llm, chain_type=\"stuff\")"
   ]
  },
  {
   "cell_type": "code",
   "execution_count": 16,
   "metadata": {},
   "outputs": [
    {
     "data": {
      "text/plain": [
       "\"According to the 2021 Canadian census, the total population of Canada is 36,991,981. It is estimated that Canada's population surpassed 40,000,000 in 2023.\""
      ]
     },
     "execution_count": 16,
     "metadata": {},
     "output_type": "execute_result"
    }
   ],
   "source": [
    "query = \"what is the population in canada\"\n",
    "\n",
    "matching_docs = vectordb.similarity_search(query)\n",
    "answer = chain.run(input_documents=matching_docs, question=query)\n",
    "answer"
   ]
  },
  {
   "cell_type": "code",
   "execution_count": null,
   "metadata": {},
   "outputs": [],
   "source": []
  }
 ],
 "metadata": {
  "kernelspec": {
   "display_name": "langchain",
   "language": "python",
   "name": "python3"
  },
  "language_info": {
   "codemirror_mode": {
    "name": "ipython",
    "version": 3
   },
   "file_extension": ".py",
   "mimetype": "text/x-python",
   "name": "python",
   "nbconvert_exporter": "python",
   "pygments_lexer": "ipython3",
   "version": "3.9.0"
  }
 },
 "nbformat": 4,
 "nbformat_minor": 2
}
